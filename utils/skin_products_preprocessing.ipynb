{
 "cells":[
  {
   "cell_type":"code",
   "source":[
    "import pandas as pd"
   ],
   "execution_count":2,
   "outputs":[
    
   ],
   "metadata":{
    "datalore":{
     "node_id":"iUr6pnFGalxXCLgdGhLzKi",
     "type":"CODE",
     "hide_input_from_viewers":true,
     "hide_output_from_viewers":true
    }
   }
  },
  {
   "cell_type":"code",
   "source":[
    "df = pd.read_csv(\"skin_products.csv\")"
   ],
   "execution_count":3,
   "outputs":[
    
   ],
   "metadata":{
    "datalore":{
     "node_id":"zzhPOQszoZrklAIlvZMKkf",
     "type":"CODE",
     "hide_input_from_viewers":true,
     "hide_output_from_viewers":true
    }
   }
  },
  {
   "cell_type":"code",
   "source":[
    "df.head()"
   ],
   "execution_count":4,
   "outputs":[
    {
     "data":{
      "text\/html":[
       "<div>\n",
       "<style scoped>\n",
       "    .dataframe tbody tr th:only-of-type {\n",
       "        vertical-align: middle;\n",
       "    }\n",
       "\n",
       "    .dataframe tbody tr th {\n",
       "        vertical-align: top;\n",
       "    }\n",
       "\n",
       "    .dataframe thead th {\n",
       "        text-align: right;\n",
       "    }\n",
       "<\/style>\n",
       "<table border=\"1\" class=\"dataframe\">\n",
       "  <thead>\n",
       "    <tr style=\"text-align: right;\">\n",
       "      <th><\/th>\n",
       "      <th>Unnamed: 0<\/th>\n",
       "      <th>category<\/th>\n",
       "      <th>product_title<\/th>\n",
       "      <th>product_ribbon<\/th>\n",
       "      <th>product_prev_price<\/th>\n",
       "      <th>product_curr_price<\/th>\n",
       "      <th>product_app_price<\/th>\n",
       "      <th>product_weight<\/th>\n",
       "    <\/tr>\n",
       "  <\/thead>\n",
       "  <tbody>\n",
       "    <tr>\n",
       "      <th>0<\/th>\n",
       "      <td>0<\/td>\n",
       "      <td>skin<\/td>\n",
       "      <td>Lilac 3X Spot Lightener<\/td>\n",
       "      <td>FREE DELIVERY**<\/td>\n",
       "      <td>৳ 350.00<\/td>\n",
       "      <td>৳ 312.00<\/td>\n",
       "      <td>App Price: ৳ 303.00<\/td>\n",
       "      <td>50gm<\/td>\n",
       "    <\/tr>\n",
       "    <tr>\n",
       "      <th>1<\/th>\n",
       "      <td>1<\/td>\n",
       "      <td>skin<\/td>\n",
       "      <td>Rajkonna Glow Booster Facial Wash With Jojoba ...<\/td>\n",
       "      <td>FREE DELIVERY**<\/td>\n",
       "      <td>৳ 185.00<\/td>\n",
       "      <td>৳ 165.00<\/td>\n",
       "      <td>App Price: ৳ 157.00<\/td>\n",
       "      <td>100ml<\/td>\n",
       "    <\/tr>\n",
       "    <tr>\n",
       "      <th>2<\/th>\n",
       "      <td>2<\/td>\n",
       "      <td>skin<\/td>\n",
       "      <td>Rajkonna Acne Fighting Facial Wash With Jojoba...<\/td>\n",
       "      <td>FREE DELIVERY**<\/td>\n",
       "      <td>৳ 185.00<\/td>\n",
       "      <td>৳ 165.00<\/td>\n",
       "      <td>App Price: ৳ 160.00<\/td>\n",
       "      <td>100ml<\/td>\n",
       "    <\/tr>\n",
       "    <tr>\n",
       "      <th>3<\/th>\n",
       "      <td>3<\/td>\n",
       "      <td>skin<\/td>\n",
       "      <td>Skin Cafe 100% Natural Rose Water Face And Bod...<\/td>\n",
       "      <td>FREE DELIVERY**<\/td>\n",
       "      <td>৳ 320.00<\/td>\n",
       "      <td>৳ 281.60<\/td>\n",
       "      <td>App Price: ৳ 273.00<\/td>\n",
       "      <td>120ml<\/td>\n",
       "    <\/tr>\n",
       "    <tr>\n",
       "      <th>4<\/th>\n",
       "      <td>4<\/td>\n",
       "      <td>skin<\/td>\n",
       "      <td>Skin Cafe Pure &amp; Natural Aloe Vera gel 98%<\/td>\n",
       "      <td>FREE DELIVERY**<\/td>\n",
       "      <td>৳ 500.00<\/td>\n",
       "      <td>৳ 440.00<\/td>\n",
       "      <td>App Price: ৳ 427.00<\/td>\n",
       "      <td>240ml<\/td>\n",
       "    <\/tr>\n",
       "  <\/tbody>\n",
       "<\/table>\n",
       "<\/div>"
      ]
     },
     "metadata":{
      
     },
     "output_type":"display_data"
    }
   ],
   "metadata":{
    "datalore":{
     "node_id":"39R1kCArt1T9RX11Nj13jW",
     "type":"CODE",
     "hide_input_from_viewers":true,
     "hide_output_from_viewers":true
    }
   }
  },
  {
   "cell_type":"code",
   "source":[
    "df.shape"
   ],
   "execution_count":5,
   "outputs":[
    {
     "data":{
      "text\/plain":[
       "(38520, 8)"
      ]
     },
     "metadata":{
      
     },
     "output_type":"display_data"
    }
   ],
   "metadata":{
    "datalore":{
     "node_id":"vx7Wf1OZwahX53vFJZFkBI",
     "type":"CODE",
     "hide_input_from_viewers":true,
     "hide_output_from_viewers":true
    }
   }
  },
  {
   "cell_type":"code",
   "source":[
    "df.columns"
   ],
   "execution_count":6,
   "outputs":[
    {
     "data":{
      "text\/plain":[
       "Index(['Unnamed: 0', 'category', 'product_title', 'product_ribbon',\n",
       "       'product_prev_price', 'product_curr_price', 'product_app_price',\n",
       "       'product_weight'],\n",
       "      dtype='object')"
      ]
     },
     "metadata":{
      
     },
     "output_type":"display_data"
    }
   ],
   "metadata":{
    "datalore":{
     "node_id":"sg8zvC0DHB3pnsrc9dkrnS",
     "type":"CODE",
     "hide_input_from_viewers":true,
     "hide_output_from_viewers":true
    }
   }
  },
  {
   "cell_type":"code",
   "source":[
    "# write a code to update the columns[0] to ID \n",
    "df = df.rename(columns = {'Unnamed: 0' : 'ID'})\n",
    "df.head()"
   ],
   "execution_count":7,
   "outputs":[
    {
     "data":{
      "text\/html":[
       "<div>\n",
       "<style scoped>\n",
       "    .dataframe tbody tr th:only-of-type {\n",
       "        vertical-align: middle;\n",
       "    }\n",
       "\n",
       "    .dataframe tbody tr th {\n",
       "        vertical-align: top;\n",
       "    }\n",
       "\n",
       "    .dataframe thead th {\n",
       "        text-align: right;\n",
       "    }\n",
       "<\/style>\n",
       "<table border=\"1\" class=\"dataframe\">\n",
       "  <thead>\n",
       "    <tr style=\"text-align: right;\">\n",
       "      <th><\/th>\n",
       "      <th>ID<\/th>\n",
       "      <th>category<\/th>\n",
       "      <th>product_title<\/th>\n",
       "      <th>product_ribbon<\/th>\n",
       "      <th>product_prev_price<\/th>\n",
       "      <th>product_curr_price<\/th>\n",
       "      <th>product_app_price<\/th>\n",
       "      <th>product_weight<\/th>\n",
       "    <\/tr>\n",
       "  <\/thead>\n",
       "  <tbody>\n",
       "    <tr>\n",
       "      <th>0<\/th>\n",
       "      <td>0<\/td>\n",
       "      <td>skin<\/td>\n",
       "      <td>Lilac 3X Spot Lightener<\/td>\n",
       "      <td>FREE DELIVERY**<\/td>\n",
       "      <td>৳ 350.00<\/td>\n",
       "      <td>৳ 312.00<\/td>\n",
       "      <td>App Price: ৳ 303.00<\/td>\n",
       "      <td>50gm<\/td>\n",
       "    <\/tr>\n",
       "    <tr>\n",
       "      <th>1<\/th>\n",
       "      <td>1<\/td>\n",
       "      <td>skin<\/td>\n",
       "      <td>Rajkonna Glow Booster Facial Wash With Jojoba ...<\/td>\n",
       "      <td>FREE DELIVERY**<\/td>\n",
       "      <td>৳ 185.00<\/td>\n",
       "      <td>৳ 165.00<\/td>\n",
       "      <td>App Price: ৳ 157.00<\/td>\n",
       "      <td>100ml<\/td>\n",
       "    <\/tr>\n",
       "    <tr>\n",
       "      <th>2<\/th>\n",
       "      <td>2<\/td>\n",
       "      <td>skin<\/td>\n",
       "      <td>Rajkonna Acne Fighting Facial Wash With Jojoba...<\/td>\n",
       "      <td>FREE DELIVERY**<\/td>\n",
       "      <td>৳ 185.00<\/td>\n",
       "      <td>৳ 165.00<\/td>\n",
       "      <td>App Price: ৳ 160.00<\/td>\n",
       "      <td>100ml<\/td>\n",
       "    <\/tr>\n",
       "    <tr>\n",
       "      <th>3<\/th>\n",
       "      <td>3<\/td>\n",
       "      <td>skin<\/td>\n",
       "      <td>Skin Cafe 100% Natural Rose Water Face And Bod...<\/td>\n",
       "      <td>FREE DELIVERY**<\/td>\n",
       "      <td>৳ 320.00<\/td>\n",
       "      <td>৳ 281.60<\/td>\n",
       "      <td>App Price: ৳ 273.00<\/td>\n",
       "      <td>120ml<\/td>\n",
       "    <\/tr>\n",
       "    <tr>\n",
       "      <th>4<\/th>\n",
       "      <td>4<\/td>\n",
       "      <td>skin<\/td>\n",
       "      <td>Skin Cafe Pure &amp; Natural Aloe Vera gel 98%<\/td>\n",
       "      <td>FREE DELIVERY**<\/td>\n",
       "      <td>৳ 500.00<\/td>\n",
       "      <td>৳ 440.00<\/td>\n",
       "      <td>App Price: ৳ 427.00<\/td>\n",
       "      <td>240ml<\/td>\n",
       "    <\/tr>\n",
       "  <\/tbody>\n",
       "<\/table>\n",
       "<\/div>"
      ]
     },
     "metadata":{
      
     },
     "output_type":"display_data"
    }
   ],
   "metadata":{
    "datalore":{
     "node_id":"icldeLudjlZleALsJnCPy5",
     "type":"CODE",
     "hide_input_from_viewers":true,
     "hide_output_from_viewers":true
    }
   }
  },
  {
   "cell_type":"code",
   "source":[
    "df.isna().sum()"
   ],
   "execution_count":13,
   "outputs":[
    {
     "data":{
      "text\/html":[
       "<pre>ID                        0\n",
       "category                  0\n",
       "product_title             0\n",
       "product_ribbon        12244\n",
       "product_prev_price    13684\n",
       "product_curr_price        0\n",
       "product_app_price     12827\n",
       "product_weight         3996\n",
       "dtype: int64<\/pre>"
      ]
     },
     "metadata":{
      
     },
     "output_type":"display_data"
    }
   ],
   "metadata":{
    "datalore":{
     "node_id":"usMXRrjPWVcVM5GoJbfUEz",
     "type":"CODE",
     "hide_input_from_viewers":true,
     "hide_output_from_viewers":true
    }
   }
  },
  {
   "cell_type":"code",
   "source":[
    "# while applying lambda make sure the lambda returns float value compatible with np \n",
    "# Python\n",
    "import re\n",
    "import numpy as np\n",
    "\n",
    "# Assume the columns 'product_prev_price', 'product_curr_price', 'product_app_price' contain such characters\n",
    "for col in ['product_prev_price', 'product_curr_price', 'product_app_price']:\n",
    "    # Applying the function which removes the non-number characters and convert the result to float\n",
    "    df[col] = df[col].apply(lambda x: np.float64(re.sub(r'[^0-9.]','', str(x))) if pd.notnull(x) else np.nan)\n",
    "    \n",
    "df.head()"
   ],
   "execution_count":12,
   "outputs":[
    {
     "data":{
      "text\/html":[
       "<div>\n",
       "<style scoped>\n",
       "    .dataframe tbody tr th:only-of-type {\n",
       "        vertical-align: middle;\n",
       "    }\n",
       "\n",
       "    .dataframe tbody tr th {\n",
       "        vertical-align: top;\n",
       "    }\n",
       "\n",
       "    .dataframe thead th {\n",
       "        text-align: right;\n",
       "    }\n",
       "<\/style>\n",
       "<table border=\"1\" class=\"dataframe\">\n",
       "  <thead>\n",
       "    <tr style=\"text-align: right;\">\n",
       "      <th><\/th>\n",
       "      <th>ID<\/th>\n",
       "      <th>category<\/th>\n",
       "      <th>product_title<\/th>\n",
       "      <th>product_ribbon<\/th>\n",
       "      <th>product_prev_price<\/th>\n",
       "      <th>product_curr_price<\/th>\n",
       "      <th>product_app_price<\/th>\n",
       "      <th>product_weight<\/th>\n",
       "    <\/tr>\n",
       "  <\/thead>\n",
       "  <tbody>\n",
       "    <tr>\n",
       "      <th>0<\/th>\n",
       "      <td>0<\/td>\n",
       "      <td>skin<\/td>\n",
       "      <td>Lilac 3X Spot Lightener<\/td>\n",
       "      <td>FREE DELIVERY**<\/td>\n",
       "      <td>350.0<\/td>\n",
       "      <td>312.0<\/td>\n",
       "      <td>303.0<\/td>\n",
       "      <td>50gm<\/td>\n",
       "    <\/tr>\n",
       "    <tr>\n",
       "      <th>1<\/th>\n",
       "      <td>1<\/td>\n",
       "      <td>skin<\/td>\n",
       "      <td>Rajkonna Glow Booster Facial Wash With Jojoba ...<\/td>\n",
       "      <td>FREE DELIVERY**<\/td>\n",
       "      <td>185.0<\/td>\n",
       "      <td>165.0<\/td>\n",
       "      <td>157.0<\/td>\n",
       "      <td>100ml<\/td>\n",
       "    <\/tr>\n",
       "    <tr>\n",
       "      <th>2<\/th>\n",
       "      <td>2<\/td>\n",
       "      <td>skin<\/td>\n",
       "      <td>Rajkonna Acne Fighting Facial Wash With Jojoba...<\/td>\n",
       "      <td>FREE DELIVERY**<\/td>\n",
       "      <td>185.0<\/td>\n",
       "      <td>165.0<\/td>\n",
       "      <td>160.0<\/td>\n",
       "      <td>100ml<\/td>\n",
       "    <\/tr>\n",
       "    <tr>\n",
       "      <th>3<\/th>\n",
       "      <td>3<\/td>\n",
       "      <td>skin<\/td>\n",
       "      <td>Skin Cafe 100% Natural Rose Water Face And Bod...<\/td>\n",
       "      <td>FREE DELIVERY**<\/td>\n",
       "      <td>320.0<\/td>\n",
       "      <td>281.6<\/td>\n",
       "      <td>273.0<\/td>\n",
       "      <td>120ml<\/td>\n",
       "    <\/tr>\n",
       "    <tr>\n",
       "      <th>4<\/th>\n",
       "      <td>4<\/td>\n",
       "      <td>skin<\/td>\n",
       "      <td>Skin Cafe Pure &amp; Natural Aloe Vera gel 98%<\/td>\n",
       "      <td>FREE DELIVERY**<\/td>\n",
       "      <td>500.0<\/td>\n",
       "      <td>440.0<\/td>\n",
       "      <td>427.0<\/td>\n",
       "      <td>240ml<\/td>\n",
       "    <\/tr>\n",
       "  <\/tbody>\n",
       "<\/table>\n",
       "<\/div>"
      ]
     },
     "metadata":{
      
     },
     "output_type":"display_data"
    }
   ],
   "metadata":{
    "datalore":{
     "node_id":"qib8jnxTSHMOgbLMHv7YxW",
     "type":"CODE",
     "hide_input_from_viewers":true,
     "hide_output_from_viewers":true
    }
   }
  },
  {
   "cell_type":"code",
   "source":[
    "# split the product_weight column into two new columns each having either gm or ml and make NaN for corresponding \n",
    "# Creating new columns 'weight_gm' and 'weight_ml'\n",
    "df['weight_gm'] = df['product_weight'].str.extract('(\\d*\\.?\\d+)(?=gm)').astype(float)\n",
    "df['weight_ml'] = df['product_weight'].str.extract('(\\d*\\.?\\d+)(?=ml)').astype(float)\n",
    "\n",
    "df.head()"
   ],
   "execution_count":14,
   "outputs":[
    {
     "data":{
      "text\/html":[
       "<div>\n",
       "<style scoped>\n",
       "    .dataframe tbody tr th:only-of-type {\n",
       "        vertical-align: middle;\n",
       "    }\n",
       "\n",
       "    .dataframe tbody tr th {\n",
       "        vertical-align: top;\n",
       "    }\n",
       "\n",
       "    .dataframe thead th {\n",
       "        text-align: right;\n",
       "    }\n",
       "<\/style>\n",
       "<table border=\"1\" class=\"dataframe\">\n",
       "  <thead>\n",
       "    <tr style=\"text-align: right;\">\n",
       "      <th><\/th>\n",
       "      <th>ID<\/th>\n",
       "      <th>category<\/th>\n",
       "      <th>product_title<\/th>\n",
       "      <th>product_ribbon<\/th>\n",
       "      <th>product_prev_price<\/th>\n",
       "      <th>product_curr_price<\/th>\n",
       "      <th>product_app_price<\/th>\n",
       "      <th>product_weight<\/th>\n",
       "      <th>weight_gm<\/th>\n",
       "      <th>weight_ml<\/th>\n",
       "    <\/tr>\n",
       "  <\/thead>\n",
       "  <tbody>\n",
       "    <tr>\n",
       "      <th>0<\/th>\n",
       "      <td>0<\/td>\n",
       "      <td>skin<\/td>\n",
       "      <td>Lilac 3X Spot Lightener<\/td>\n",
       "      <td>FREE DELIVERY**<\/td>\n",
       "      <td>350.0<\/td>\n",
       "      <td>312.0<\/td>\n",
       "      <td>303.0<\/td>\n",
       "      <td>50gm<\/td>\n",
       "      <td>50.0<\/td>\n",
       "      <td>NaN<\/td>\n",
       "    <\/tr>\n",
       "    <tr>\n",
       "      <th>1<\/th>\n",
       "      <td>1<\/td>\n",
       "      <td>skin<\/td>\n",
       "      <td>Rajkonna Glow Booster Facial Wash With Jojoba ...<\/td>\n",
       "      <td>FREE DELIVERY**<\/td>\n",
       "      <td>185.0<\/td>\n",
       "      <td>165.0<\/td>\n",
       "      <td>157.0<\/td>\n",
       "      <td>100ml<\/td>\n",
       "      <td>NaN<\/td>\n",
       "      <td>100.0<\/td>\n",
       "    <\/tr>\n",
       "    <tr>\n",
       "      <th>2<\/th>\n",
       "      <td>2<\/td>\n",
       "      <td>skin<\/td>\n",
       "      <td>Rajkonna Acne Fighting Facial Wash With Jojoba...<\/td>\n",
       "      <td>FREE DELIVERY**<\/td>\n",
       "      <td>185.0<\/td>\n",
       "      <td>165.0<\/td>\n",
       "      <td>160.0<\/td>\n",
       "      <td>100ml<\/td>\n",
       "      <td>NaN<\/td>\n",
       "      <td>100.0<\/td>\n",
       "    <\/tr>\n",
       "    <tr>\n",
       "      <th>3<\/th>\n",
       "      <td>3<\/td>\n",
       "      <td>skin<\/td>\n",
       "      <td>Skin Cafe 100% Natural Rose Water Face And Bod...<\/td>\n",
       "      <td>FREE DELIVERY**<\/td>\n",
       "      <td>320.0<\/td>\n",
       "      <td>281.6<\/td>\n",
       "      <td>273.0<\/td>\n",
       "      <td>120ml<\/td>\n",
       "      <td>NaN<\/td>\n",
       "      <td>120.0<\/td>\n",
       "    <\/tr>\n",
       "    <tr>\n",
       "      <th>4<\/th>\n",
       "      <td>4<\/td>\n",
       "      <td>skin<\/td>\n",
       "      <td>Skin Cafe Pure &amp; Natural Aloe Vera gel 98%<\/td>\n",
       "      <td>FREE DELIVERY**<\/td>\n",
       "      <td>500.0<\/td>\n",
       "      <td>440.0<\/td>\n",
       "      <td>427.0<\/td>\n",
       "      <td>240ml<\/td>\n",
       "      <td>NaN<\/td>\n",
       "      <td>240.0<\/td>\n",
       "    <\/tr>\n",
       "  <\/tbody>\n",
       "<\/table>\n",
       "<\/div>"
      ]
     },
     "metadata":{
      
     },
     "output_type":"display_data"
    }
   ],
   "metadata":{
    "datalore":{
     "node_id":"6ceOtst8QLneNVVjG56sUT",
     "type":"CODE",
     "hide_input_from_viewers":true,
     "hide_output_from_viewers":true
    }
   }
  },
  {
   "cell_type":"code",
   "source":[
    "# but spaces allowed \n",
    "# remove special characters except space from product_ribbon \n",
    "# We can modify regular expression to remove all non-word characters except space.\n",
    "df['product_ribbon'] = df['product_ribbon'].apply(lambda x: re.sub(r'[^\\w\\s]','', str(x)))\n",
    "\n",
    "df.head()"
   ],
   "execution_count":15,
   "outputs":[
    {
     "data":{
      "text\/html":[
       "<div>\n",
       "<style scoped>\n",
       "    .dataframe tbody tr th:only-of-type {\n",
       "        vertical-align: middle;\n",
       "    }\n",
       "\n",
       "    .dataframe tbody tr th {\n",
       "        vertical-align: top;\n",
       "    }\n",
       "\n",
       "    .dataframe thead th {\n",
       "        text-align: right;\n",
       "    }\n",
       "<\/style>\n",
       "<table border=\"1\" class=\"dataframe\">\n",
       "  <thead>\n",
       "    <tr style=\"text-align: right;\">\n",
       "      <th><\/th>\n",
       "      <th>ID<\/th>\n",
       "      <th>category<\/th>\n",
       "      <th>product_title<\/th>\n",
       "      <th>product_ribbon<\/th>\n",
       "      <th>product_prev_price<\/th>\n",
       "      <th>product_curr_price<\/th>\n",
       "      <th>product_app_price<\/th>\n",
       "      <th>product_weight<\/th>\n",
       "      <th>weight_gm<\/th>\n",
       "      <th>weight_ml<\/th>\n",
       "    <\/tr>\n",
       "  <\/thead>\n",
       "  <tbody>\n",
       "    <tr>\n",
       "      <th>0<\/th>\n",
       "      <td>0<\/td>\n",
       "      <td>skin<\/td>\n",
       "      <td>Lilac 3X Spot Lightener<\/td>\n",
       "      <td>FREE DELIVERY<\/td>\n",
       "      <td>350.0<\/td>\n",
       "      <td>312.0<\/td>\n",
       "      <td>303.0<\/td>\n",
       "      <td>50gm<\/td>\n",
       "      <td>50.0<\/td>\n",
       "      <td>NaN<\/td>\n",
       "    <\/tr>\n",
       "    <tr>\n",
       "      <th>1<\/th>\n",
       "      <td>1<\/td>\n",
       "      <td>skin<\/td>\n",
       "      <td>Rajkonna Glow Booster Facial Wash With Jojoba ...<\/td>\n",
       "      <td>FREE DELIVERY<\/td>\n",
       "      <td>185.0<\/td>\n",
       "      <td>165.0<\/td>\n",
       "      <td>157.0<\/td>\n",
       "      <td>100ml<\/td>\n",
       "      <td>NaN<\/td>\n",
       "      <td>100.0<\/td>\n",
       "    <\/tr>\n",
       "    <tr>\n",
       "      <th>2<\/th>\n",
       "      <td>2<\/td>\n",
       "      <td>skin<\/td>\n",
       "      <td>Rajkonna Acne Fighting Facial Wash With Jojoba...<\/td>\n",
       "      <td>FREE DELIVERY<\/td>\n",
       "      <td>185.0<\/td>\n",
       "      <td>165.0<\/td>\n",
       "      <td>160.0<\/td>\n",
       "      <td>100ml<\/td>\n",
       "      <td>NaN<\/td>\n",
       "      <td>100.0<\/td>\n",
       "    <\/tr>\n",
       "    <tr>\n",
       "      <th>3<\/th>\n",
       "      <td>3<\/td>\n",
       "      <td>skin<\/td>\n",
       "      <td>Skin Cafe 100% Natural Rose Water Face And Bod...<\/td>\n",
       "      <td>FREE DELIVERY<\/td>\n",
       "      <td>320.0<\/td>\n",
       "      <td>281.6<\/td>\n",
       "      <td>273.0<\/td>\n",
       "      <td>120ml<\/td>\n",
       "      <td>NaN<\/td>\n",
       "      <td>120.0<\/td>\n",
       "    <\/tr>\n",
       "    <tr>\n",
       "      <th>4<\/th>\n",
       "      <td>4<\/td>\n",
       "      <td>skin<\/td>\n",
       "      <td>Skin Cafe Pure &amp; Natural Aloe Vera gel 98%<\/td>\n",
       "      <td>FREE DELIVERY<\/td>\n",
       "      <td>500.0<\/td>\n",
       "      <td>440.0<\/td>\n",
       "      <td>427.0<\/td>\n",
       "      <td>240ml<\/td>\n",
       "      <td>NaN<\/td>\n",
       "      <td>240.0<\/td>\n",
       "    <\/tr>\n",
       "  <\/tbody>\n",
       "<\/table>\n",
       "<\/div>"
      ]
     },
     "metadata":{
      
     },
     "output_type":"display_data"
    }
   ],
   "metadata":{
    "datalore":{
     "node_id":"mMtMB9Z7XMcwCDgJklwLEM",
     "type":"CODE",
     "hide_input_from_viewers":true,
     "hide_output_from_viewers":true
    }
   }
  },
  {
   "cell_type":"code",
   "source":[
    "df.duplicated().sum()"
   ],
   "execution_count":16,
   "outputs":[
    {
     "data":{
      "text\/plain":[
       "0"
      ]
     },
     "metadata":{
      
     },
     "output_type":"display_data"
    }
   ],
   "metadata":{
    "datalore":{
     "node_id":"jRK1fvUK7DGc6ijixjXHX7",
     "type":"CODE",
     "hide_input_from_viewers":true,
     "hide_output_from_viewers":true
    }
   }
  },
  {
   "cell_type":"code",
   "source":[
    "df = df.drop_duplicates()"
   ],
   "execution_count":17,
   "outputs":[
    
   ],
   "metadata":{
    "datalore":{
     "node_id":"54ey4nqq5sJ3kKZGFFIpKH",
     "type":"CODE",
     "hide_input_from_viewers":true,
     "hide_output_from_viewers":true
    }
   }
  },
  {
   "cell_type":"code",
   "source":[
    "df.shape"
   ],
   "execution_count":18,
   "outputs":[
    {
     "data":{
      "text\/plain":[
       "(38520, 10)"
      ]
     },
     "metadata":{
      
     },
     "output_type":"display_data"
    }
   ],
   "metadata":{
    "datalore":{
     "node_id":"AXjg4G3cPaLMIeXRYwVxrC",
     "type":"CODE",
     "hide_input_from_viewers":true,
     "hide_output_from_viewers":true
    }
   }
  },
  {
   "cell_type":"code",
   "source":[
    "df.describe()"
   ],
   "execution_count":24,
   "outputs":[
    {
     "data":{
      "text\/html":[
       "<div>\n",
       "<style scoped>\n",
       "    .dataframe tbody tr th:only-of-type {\n",
       "        vertical-align: middle;\n",
       "    }\n",
       "\n",
       "    .dataframe tbody tr th {\n",
       "        vertical-align: top;\n",
       "    }\n",
       "\n",
       "    .dataframe thead th {\n",
       "        text-align: right;\n",
       "    }\n",
       "<\/style>\n",
       "<table border=\"1\" class=\"dataframe\">\n",
       "  <thead>\n",
       "    <tr style=\"text-align: right;\">\n",
       "      <th><\/th>\n",
       "      <th>ID<\/th>\n",
       "      <th>product_prev_price<\/th>\n",
       "      <th>product_curr_price<\/th>\n",
       "      <th>product_app_price<\/th>\n",
       "      <th>weight_gm<\/th>\n",
       "      <th>weight_ml<\/th>\n",
       "    <\/tr>\n",
       "  <\/thead>\n",
       "  <tbody>\n",
       "    <tr>\n",
       "      <th>count<\/th>\n",
       "      <td>38,520.00<\/td>\n",
       "      <td>24,836.00<\/td>\n",
       "      <td>38,520.00<\/td>\n",
       "      <td>25,693.00<\/td>\n",
       "      <td>9,668.00<\/td>\n",
       "      <td>24,856.00<\/td>\n",
       "    <\/tr>\n",
       "    <tr>\n",
       "      <th>mean<\/th>\n",
       "      <td>19,259.50<\/td>\n",
       "      <td>1,140.15<\/td>\n",
       "      <td>919.46<\/td>\n",
       "      <td>995.80<\/td>\n",
       "      <td>86.73<\/td>\n",
       "      <td>117.09<\/td>\n",
       "    <\/tr>\n",
       "    <tr>\n",
       "      <th>std<\/th>\n",
       "      <td>11,119.91<\/td>\n",
       "      <td>1,440.84<\/td>\n",
       "      <td>1,061.81<\/td>\n",
       "      <td>824.79<\/td>\n",
       "      <td>86.71<\/td>\n",
       "      <td>115.59<\/td>\n",
       "    <\/tr>\n",
       "    <tr>\n",
       "      <th>min<\/th>\n",
       "      <td>0.00<\/td>\n",
       "      <td>40.00<\/td>\n",
       "      <td>15.00<\/td>\n",
       "      <td>15.00<\/td>\n",
       "      <td>2.00<\/td>\n",
       "      <td>2.00<\/td>\n",
       "    <\/tr>\n",
       "    <tr>\n",
       "      <th>25%<\/th>\n",
       "      <td>9,629.75<\/td>\n",
       "      <td>310.00<\/td>\n",
       "      <td>261.00<\/td>\n",
       "      <td>340.00<\/td>\n",
       "      <td>48.00<\/td>\n",
       "      <td>50.00<\/td>\n",
       "    <\/tr>\n",
       "    <tr>\n",
       "      <th>50%<\/th>\n",
       "      <td>19,259.50<\/td>\n",
       "      <td>650.00<\/td>\n",
       "      <td>546.00<\/td>\n",
       "      <td>728.00<\/td>\n",
       "      <td>70.00<\/td>\n",
       "      <td>100.00<\/td>\n",
       "    <\/tr>\n",
       "    <tr>\n",
       "      <th>75%<\/th>\n",
       "      <td>28,889.25<\/td>\n",
       "      <td>1,450.00<\/td>\n",
       "      <td>1,250.00<\/td>\n",
       "      <td>1,552.00<\/td>\n",
       "      <td>100.00<\/td>\n",
       "      <td>150.00<\/td>\n",
       "    <\/tr>\n",
       "    <tr>\n",
       "      <th>max<\/th>\n",
       "      <td>38,519.00<\/td>\n",
       "      <td>13,000.00<\/td>\n",
       "      <td>10,500.00<\/td>\n",
       "      <td>6,645.00<\/td>\n",
       "      <td>650.00<\/td>\n",
       "      <td>1,000.00<\/td>\n",
       "    <\/tr>\n",
       "  <\/tbody>\n",
       "<\/table>\n",
       "<\/div>"
      ]
     },
     "metadata":{
      
     },
     "output_type":"display_data"
    }
   ],
   "metadata":{
    "datalore":{
     "node_id":"7Ud9uVrlw6G2J3cYQ2rkEM",
     "type":"CODE",
     "hide_input_from_viewers":true,
     "hide_output_from_viewers":true
    }
   }
  },
  {
   "cell_type":"code",
   "source":[
    "df.to_csv('skin_products_preprocessed.csv')"
   ],
   "execution_count":25,
   "outputs":[
    
   ],
   "metadata":{
    "datalore":{
     "node_id":"PzEMlFK98yinG3vQcBBD9E",
     "type":"CODE",
     "hide_input_from_viewers":true,
     "hide_output_from_viewers":true
    }
   }
  }
 ],
 "metadata":{
  "kernelspec":{
   "display_name":"Python",
   "language":"python",
   "name":"python"
  },
  "datalore":{
   "computation_mode":"JUPYTER",
   "packages":[
    
   ],
   "report_row_ids":[
    
   ],
   "version":3
  }
 },
 "nbformat":4,
 "nbformat_minor":4
}